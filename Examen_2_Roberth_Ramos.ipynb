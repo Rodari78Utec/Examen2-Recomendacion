{
  "nbformat": 4,
  "nbformat_minor": 0,
  "metadata": {
    "colab": {
      "provenance": []
    },
    "kernelspec": {
      "name": "python3",
      "display_name": "Python 3"
    },
    "language_info": {
      "name": "python"
    }
  },
  "cells": [
    {
      "cell_type": "markdown",
      "source": [
        "# Examen 2 - Sistemas de Recomendacion\n",
        "\n",
        "##Roberth Ramos\n"
      ],
      "metadata": {
        "id": "IaY6p70drF7w"
      }
    },
    {
      "cell_type": "markdown",
      "source": [
        "## Pregunta 1\n",
        " Explica como el algoritmo k-nearest neighbors KNN utiliza metricas de similitud para generar recomendaciones, indica dos ventajas y dos limitaciones del uso de knn en un sistema de recomentacion con datos de peliculas.\n",
        "\n",
        "** Respuesta **\n",
        " En un sistema de recomendación de películas, KNN utiliza métricas de similitud, como la distancia euclidiana o el coseno de similitud o correlacion de pearson, para encontrar películas similares a las que un usuario ha visto o calificado previamente. Esto lo ejecuta en 3 pasos:\n",
        " - Calcula Metrica de similitud, calcula la similitud utilizando algunas de las metricas como distancia euclidiana, similitud de coseno, etc.\n",
        " - Identificacion de vecimos, el algoritmo encuentra encuentra las peliculas las cercanas de acuerdo a la metrica de similitud utilizada.\n",
        " - Recomendación, las películas que resultan ser los \"vecinos más cercanos\" de las ya vistas o calificadas por el usuario son recomendadas como películas que probablemente le gustarán.\n",
        "\n",
        " Ventajas\n",
        " - Facil de entender y explicar\n",
        " - No requieren entrenamiento previo\n",
        " Desventajas\n",
        " - datos dispersos afectan el modelo\n",
        " - escalabilidad.\n"
      ],
      "metadata": {
        "id": "yyy2E4IhrTHD"
      }
    },
    {
      "cell_type": "markdown",
      "source": [
        "## Pregunta 2"
      ],
      "metadata": {
        "id": "374_E4qxxcPa"
      }
    },
    {
      "cell_type": "code",
      "source": [
        "# Instalar la librería scikit-surprise para algoritmos de filtrado colaborativo\n",
        "!pip install scikit-surprise"
      ],
      "metadata": {
        "colab": {
          "base_uri": "https://localhost:8080/"
        },
        "id": "kwg4zV7Vqwig",
        "outputId": "f99318af-228f-4824-b812-92e0921e9a71"
      },
      "execution_count": 2,
      "outputs": [
        {
          "output_type": "stream",
          "name": "stdout",
          "text": [
            "Collecting scikit-surprise\n",
            "  Downloading scikit_surprise-1.1.4.tar.gz (154 kB)\n",
            "\u001b[?25l     \u001b[90m━━━━━━━━━━━━━━━━━━━━━━━━━━━━━━━━━━━━━━━━\u001b[0m \u001b[32m0.0/154.4 kB\u001b[0m \u001b[31m?\u001b[0m eta \u001b[36m-:--:--\u001b[0m\r\u001b[2K     \u001b[91m━━━━━━━━━━━━━━━━━━━━━━━━━━━━━━━━━━━━━━━\u001b[0m\u001b[91m╸\u001b[0m \u001b[32m153.6/154.4 kB\u001b[0m \u001b[31m4.6 MB/s\u001b[0m eta \u001b[36m0:00:01\u001b[0m\r\u001b[2K     \u001b[90m━━━━━━━━━━━━━━━━━━━━━━━━━━━━━━━━━━━━━━━━\u001b[0m \u001b[32m154.4/154.4 kB\u001b[0m \u001b[31m3.2 MB/s\u001b[0m eta \u001b[36m0:00:00\u001b[0m\n",
            "\u001b[?25h  Installing build dependencies ... \u001b[?25l\u001b[?25hdone\n",
            "  Getting requirements to build wheel ... \u001b[?25l\u001b[?25hdone\n",
            "  Preparing metadata (pyproject.toml) ... \u001b[?25l\u001b[?25hdone\n",
            "Requirement already satisfied: joblib>=1.2.0 in /usr/local/lib/python3.10/dist-packages (from scikit-surprise) (1.4.2)\n",
            "Requirement already satisfied: numpy>=1.19.5 in /usr/local/lib/python3.10/dist-packages (from scikit-surprise) (1.26.4)\n",
            "Requirement already satisfied: scipy>=1.6.0 in /usr/local/lib/python3.10/dist-packages (from scikit-surprise) (1.13.1)\n",
            "Building wheels for collected packages: scikit-surprise\n",
            "  Building wheel for scikit-surprise (pyproject.toml) ... \u001b[?25l\u001b[?25hdone\n",
            "  Created wheel for scikit-surprise: filename=scikit_surprise-1.1.4-cp310-cp310-linux_x86_64.whl size=2357291 sha256=a7747af9e3f7111f35ee21472c60e672001409f1de420a014e426aa5b5276f2b\n",
            "  Stored in directory: /root/.cache/pip/wheels/4b/3f/df/6acbf0a40397d9bf3ff97f582cc22fb9ce66adde75bc71fd54\n",
            "Successfully built scikit-surprise\n",
            "Installing collected packages: scikit-surprise\n",
            "Successfully installed scikit-surprise-1.1.4\n"
          ]
        }
      ]
    },
    {
      "cell_type": "code",
      "source": [
        "# Descargar el dataset MovieLens 1M\n",
        "!curl -o dataset.zip \"https://files.grouplens.org/datasets/movielens/ml-1m.zip\"\n",
        "!unzip dataset.zip\n",
        "!ls -la"
      ],
      "metadata": {
        "colab": {
          "base_uri": "https://localhost:8080/"
        },
        "id": "sy_E4bKZvNCz",
        "outputId": "b10e90d0-4012-46fd-ea83-718eee4a85d4"
      },
      "execution_count": 3,
      "outputs": [
        {
          "output_type": "stream",
          "name": "stdout",
          "text": [
            "  % Total    % Received % Xferd  Average Speed   Time    Time     Time  Current\n",
            "                                 Dload  Upload   Total   Spent    Left  Speed\n",
            "100 5778k  100 5778k    0     0  9541k      0 --:--:-- --:--:-- --:--:-- 9536k\n",
            "Archive:  dataset.zip\n",
            "   creating: ml-1m/\n",
            "  inflating: ml-1m/movies.dat        \n",
            "  inflating: ml-1m/ratings.dat       \n",
            "  inflating: ml-1m/README            \n",
            "  inflating: ml-1m/users.dat         \n",
            "total 5800\n",
            "drwxr-xr-x 1 root root    4096 Oct 29 00:47 .\n",
            "drwxr-xr-x 1 root root    4096 Oct 29 00:27 ..\n",
            "drwxr-xr-x 4 root root    4096 Oct 25 13:20 .config\n",
            "-rw-r--r-- 1 root root 5917549 Oct 29 00:47 dataset.zip\n",
            "drwxr-x--- 2 root root    4096 Jan 29  2016 ml-1m\n",
            "drwxr-xr-x 1 root root    4096 Oct 25 13:20 sample_data\n"
          ]
        }
      ]
    },
    {
      "cell_type": "code",
      "source": [
        "from surprise import Dataset, Reader\n",
        "from surprise.model_selection import train_test_split\n",
        "from surprise import KNNBasic\n",
        "import pandas as pd\n",
        "import random"
      ],
      "metadata": {
        "id": "_2kQVrHKvhs2"
      },
      "execution_count": 5,
      "outputs": []
    },
    {
      "cell_type": "code",
      "source": [
        "# Cargar los datasets de calificaciones y películas\n",
        "ratings = pd.read_csv('ml-1m/ratings.dat', sep='::', header=None, engine='python',\n",
        "                      names=['userId', 'movieId', 'rating', 'timestamp'], encoding='latin-1')\n",
        "movies  = pd.read_csv('ml-1m/movies.dat', sep='::',  header=None, engine='python',\n",
        "                      names=['movieId', 'title', 'genres'], encoding='latin-1')\n"
      ],
      "metadata": {
        "id": "ZfEyXbZJvpIL"
      },
      "execution_count": 6,
      "outputs": []
    },
    {
      "cell_type": "code",
      "source": [
        "# Unir los datasets en base a 'movieId' para agregar los títulos\n",
        "user_item_rating = pd.merge(ratings, movies[['movieId', 'title']], on='movieId')\n",
        "\n",
        "# Seleccionar solo las columnas necesarias\n",
        "user_item_rating = user_item_rating[['userId', 'title', 'rating']]\n",
        "\n",
        "# Ordenar los datos por 'userId'\n",
        "user_item_rating.sort_values(by='userId', inplace=True)\n",
        "\n",
        "# Mostrar las primeras filas para verificar\n",
        "user_item_rating.head()"
      ],
      "metadata": {
        "colab": {
          "base_uri": "https://localhost:8080/",
          "height": 206
        },
        "id": "fuOemoHwv7ve",
        "outputId": "99641f38-a7e3-4511-fb15-9463d0a3f1d1"
      },
      "execution_count": 7,
      "outputs": [
        {
          "output_type": "execute_result",
          "data": {
            "text/plain": [
              "    userId                                   title  rating\n",
              "0        1  One Flew Over the Cuckoo's Nest (1975)       5\n",
              "29       1                   Close Shave, A (1995)       3\n",
              "30       1                             Antz (1998)       4\n",
              "31       1                Girl, Interrupted (1999)       4\n",
              "32       1                         Hercules (1997)       4"
            ],
            "text/html": [
              "\n",
              "  <div id=\"df-122580be-9189-41d2-90ec-5e459ffaa073\" class=\"colab-df-container\">\n",
              "    <div>\n",
              "<style scoped>\n",
              "    .dataframe tbody tr th:only-of-type {\n",
              "        vertical-align: middle;\n",
              "    }\n",
              "\n",
              "    .dataframe tbody tr th {\n",
              "        vertical-align: top;\n",
              "    }\n",
              "\n",
              "    .dataframe thead th {\n",
              "        text-align: right;\n",
              "    }\n",
              "</style>\n",
              "<table border=\"1\" class=\"dataframe\">\n",
              "  <thead>\n",
              "    <tr style=\"text-align: right;\">\n",
              "      <th></th>\n",
              "      <th>userId</th>\n",
              "      <th>title</th>\n",
              "      <th>rating</th>\n",
              "    </tr>\n",
              "  </thead>\n",
              "  <tbody>\n",
              "    <tr>\n",
              "      <th>0</th>\n",
              "      <td>1</td>\n",
              "      <td>One Flew Over the Cuckoo's Nest (1975)</td>\n",
              "      <td>5</td>\n",
              "    </tr>\n",
              "    <tr>\n",
              "      <th>29</th>\n",
              "      <td>1</td>\n",
              "      <td>Close Shave, A (1995)</td>\n",
              "      <td>3</td>\n",
              "    </tr>\n",
              "    <tr>\n",
              "      <th>30</th>\n",
              "      <td>1</td>\n",
              "      <td>Antz (1998)</td>\n",
              "      <td>4</td>\n",
              "    </tr>\n",
              "    <tr>\n",
              "      <th>31</th>\n",
              "      <td>1</td>\n",
              "      <td>Girl, Interrupted (1999)</td>\n",
              "      <td>4</td>\n",
              "    </tr>\n",
              "    <tr>\n",
              "      <th>32</th>\n",
              "      <td>1</td>\n",
              "      <td>Hercules (1997)</td>\n",
              "      <td>4</td>\n",
              "    </tr>\n",
              "  </tbody>\n",
              "</table>\n",
              "</div>\n",
              "    <div class=\"colab-df-buttons\">\n",
              "\n",
              "  <div class=\"colab-df-container\">\n",
              "    <button class=\"colab-df-convert\" onclick=\"convertToInteractive('df-122580be-9189-41d2-90ec-5e459ffaa073')\"\n",
              "            title=\"Convert this dataframe to an interactive table.\"\n",
              "            style=\"display:none;\">\n",
              "\n",
              "  <svg xmlns=\"http://www.w3.org/2000/svg\" height=\"24px\" viewBox=\"0 -960 960 960\">\n",
              "    <path d=\"M120-120v-720h720v720H120Zm60-500h600v-160H180v160Zm220 220h160v-160H400v160Zm0 220h160v-160H400v160ZM180-400h160v-160H180v160Zm440 0h160v-160H620v160ZM180-180h160v-160H180v160Zm440 0h160v-160H620v160Z\"/>\n",
              "  </svg>\n",
              "    </button>\n",
              "\n",
              "  <style>\n",
              "    .colab-df-container {\n",
              "      display:flex;\n",
              "      gap: 12px;\n",
              "    }\n",
              "\n",
              "    .colab-df-convert {\n",
              "      background-color: #E8F0FE;\n",
              "      border: none;\n",
              "      border-radius: 50%;\n",
              "      cursor: pointer;\n",
              "      display: none;\n",
              "      fill: #1967D2;\n",
              "      height: 32px;\n",
              "      padding: 0 0 0 0;\n",
              "      width: 32px;\n",
              "    }\n",
              "\n",
              "    .colab-df-convert:hover {\n",
              "      background-color: #E2EBFA;\n",
              "      box-shadow: 0px 1px 2px rgba(60, 64, 67, 0.3), 0px 1px 3px 1px rgba(60, 64, 67, 0.15);\n",
              "      fill: #174EA6;\n",
              "    }\n",
              "\n",
              "    .colab-df-buttons div {\n",
              "      margin-bottom: 4px;\n",
              "    }\n",
              "\n",
              "    [theme=dark] .colab-df-convert {\n",
              "      background-color: #3B4455;\n",
              "      fill: #D2E3FC;\n",
              "    }\n",
              "\n",
              "    [theme=dark] .colab-df-convert:hover {\n",
              "      background-color: #434B5C;\n",
              "      box-shadow: 0px 1px 3px 1px rgba(0, 0, 0, 0.15);\n",
              "      filter: drop-shadow(0px 1px 2px rgba(0, 0, 0, 0.3));\n",
              "      fill: #FFFFFF;\n",
              "    }\n",
              "  </style>\n",
              "\n",
              "    <script>\n",
              "      const buttonEl =\n",
              "        document.querySelector('#df-122580be-9189-41d2-90ec-5e459ffaa073 button.colab-df-convert');\n",
              "      buttonEl.style.display =\n",
              "        google.colab.kernel.accessAllowed ? 'block' : 'none';\n",
              "\n",
              "      async function convertToInteractive(key) {\n",
              "        const element = document.querySelector('#df-122580be-9189-41d2-90ec-5e459ffaa073');\n",
              "        const dataTable =\n",
              "          await google.colab.kernel.invokeFunction('convertToInteractive',\n",
              "                                                    [key], {});\n",
              "        if (!dataTable) return;\n",
              "\n",
              "        const docLinkHtml = 'Like what you see? Visit the ' +\n",
              "          '<a target=\"_blank\" href=https://colab.research.google.com/notebooks/data_table.ipynb>data table notebook</a>'\n",
              "          + ' to learn more about interactive tables.';\n",
              "        element.innerHTML = '';\n",
              "        dataTable['output_type'] = 'display_data';\n",
              "        await google.colab.output.renderOutput(dataTable, element);\n",
              "        const docLink = document.createElement('div');\n",
              "        docLink.innerHTML = docLinkHtml;\n",
              "        element.appendChild(docLink);\n",
              "      }\n",
              "    </script>\n",
              "  </div>\n",
              "\n",
              "\n",
              "<div id=\"df-51cb3122-ecc6-45e9-9386-6b15c1fc4d63\">\n",
              "  <button class=\"colab-df-quickchart\" onclick=\"quickchart('df-51cb3122-ecc6-45e9-9386-6b15c1fc4d63')\"\n",
              "            title=\"Suggest charts\"\n",
              "            style=\"display:none;\">\n",
              "\n",
              "<svg xmlns=\"http://www.w3.org/2000/svg\" height=\"24px\"viewBox=\"0 0 24 24\"\n",
              "     width=\"24px\">\n",
              "    <g>\n",
              "        <path d=\"M19 3H5c-1.1 0-2 .9-2 2v14c0 1.1.9 2 2 2h14c1.1 0 2-.9 2-2V5c0-1.1-.9-2-2-2zM9 17H7v-7h2v7zm4 0h-2V7h2v10zm4 0h-2v-4h2v4z\"/>\n",
              "    </g>\n",
              "</svg>\n",
              "  </button>\n",
              "\n",
              "<style>\n",
              "  .colab-df-quickchart {\n",
              "      --bg-color: #E8F0FE;\n",
              "      --fill-color: #1967D2;\n",
              "      --hover-bg-color: #E2EBFA;\n",
              "      --hover-fill-color: #174EA6;\n",
              "      --disabled-fill-color: #AAA;\n",
              "      --disabled-bg-color: #DDD;\n",
              "  }\n",
              "\n",
              "  [theme=dark] .colab-df-quickchart {\n",
              "      --bg-color: #3B4455;\n",
              "      --fill-color: #D2E3FC;\n",
              "      --hover-bg-color: #434B5C;\n",
              "      --hover-fill-color: #FFFFFF;\n",
              "      --disabled-bg-color: #3B4455;\n",
              "      --disabled-fill-color: #666;\n",
              "  }\n",
              "\n",
              "  .colab-df-quickchart {\n",
              "    background-color: var(--bg-color);\n",
              "    border: none;\n",
              "    border-radius: 50%;\n",
              "    cursor: pointer;\n",
              "    display: none;\n",
              "    fill: var(--fill-color);\n",
              "    height: 32px;\n",
              "    padding: 0;\n",
              "    width: 32px;\n",
              "  }\n",
              "\n",
              "  .colab-df-quickchart:hover {\n",
              "    background-color: var(--hover-bg-color);\n",
              "    box-shadow: 0 1px 2px rgba(60, 64, 67, 0.3), 0 1px 3px 1px rgba(60, 64, 67, 0.15);\n",
              "    fill: var(--button-hover-fill-color);\n",
              "  }\n",
              "\n",
              "  .colab-df-quickchart-complete:disabled,\n",
              "  .colab-df-quickchart-complete:disabled:hover {\n",
              "    background-color: var(--disabled-bg-color);\n",
              "    fill: var(--disabled-fill-color);\n",
              "    box-shadow: none;\n",
              "  }\n",
              "\n",
              "  .colab-df-spinner {\n",
              "    border: 2px solid var(--fill-color);\n",
              "    border-color: transparent;\n",
              "    border-bottom-color: var(--fill-color);\n",
              "    animation:\n",
              "      spin 1s steps(1) infinite;\n",
              "  }\n",
              "\n",
              "  @keyframes spin {\n",
              "    0% {\n",
              "      border-color: transparent;\n",
              "      border-bottom-color: var(--fill-color);\n",
              "      border-left-color: var(--fill-color);\n",
              "    }\n",
              "    20% {\n",
              "      border-color: transparent;\n",
              "      border-left-color: var(--fill-color);\n",
              "      border-top-color: var(--fill-color);\n",
              "    }\n",
              "    30% {\n",
              "      border-color: transparent;\n",
              "      border-left-color: var(--fill-color);\n",
              "      border-top-color: var(--fill-color);\n",
              "      border-right-color: var(--fill-color);\n",
              "    }\n",
              "    40% {\n",
              "      border-color: transparent;\n",
              "      border-right-color: var(--fill-color);\n",
              "      border-top-color: var(--fill-color);\n",
              "    }\n",
              "    60% {\n",
              "      border-color: transparent;\n",
              "      border-right-color: var(--fill-color);\n",
              "    }\n",
              "    80% {\n",
              "      border-color: transparent;\n",
              "      border-right-color: var(--fill-color);\n",
              "      border-bottom-color: var(--fill-color);\n",
              "    }\n",
              "    90% {\n",
              "      border-color: transparent;\n",
              "      border-bottom-color: var(--fill-color);\n",
              "    }\n",
              "  }\n",
              "</style>\n",
              "\n",
              "  <script>\n",
              "    async function quickchart(key) {\n",
              "      const quickchartButtonEl =\n",
              "        document.querySelector('#' + key + ' button');\n",
              "      quickchartButtonEl.disabled = true;  // To prevent multiple clicks.\n",
              "      quickchartButtonEl.classList.add('colab-df-spinner');\n",
              "      try {\n",
              "        const charts = await google.colab.kernel.invokeFunction(\n",
              "            'suggestCharts', [key], {});\n",
              "      } catch (error) {\n",
              "        console.error('Error during call to suggestCharts:', error);\n",
              "      }\n",
              "      quickchartButtonEl.classList.remove('colab-df-spinner');\n",
              "      quickchartButtonEl.classList.add('colab-df-quickchart-complete');\n",
              "    }\n",
              "    (() => {\n",
              "      let quickchartButtonEl =\n",
              "        document.querySelector('#df-51cb3122-ecc6-45e9-9386-6b15c1fc4d63 button');\n",
              "      quickchartButtonEl.style.display =\n",
              "        google.colab.kernel.accessAllowed ? 'block' : 'none';\n",
              "    })();\n",
              "  </script>\n",
              "</div>\n",
              "\n",
              "    </div>\n",
              "  </div>\n"
            ],
            "application/vnd.google.colaboratory.intrinsic+json": {
              "type": "dataframe",
              "variable_name": "user_item_rating"
            }
          },
          "metadata": {},
          "execution_count": 7
        }
      ]
    },
    {
      "cell_type": "code",
      "source": [
        "# Definir el formato de los datos para scikit-surprise\n",
        "reader = Reader(rating_scale=(1, 5))\n",
        "\n",
        "# Crear el dataset desde el DataFrame\n",
        "data = Dataset.load_from_df(ratings[['userId', 'movieId', 'rating']], reader)\n"
      ],
      "metadata": {
        "id": "N_jR-KBJwcSC"
      },
      "execution_count": 8,
      "outputs": []
    },
    {
      "cell_type": "code",
      "source": [
        "# Separar los datos en entrenamiento y prueba\n",
        "trainset, testset = train_test_split(data, test_size=0.25)\n",
        "\n",
        "# Usar el algoritmo KNN con la similitud de Pearson para encontrar la similitud entre usuarios\n",
        "sim_options = {\n",
        "    'name': 'pearson',  # Usamos correlación de Pearson\n",
        "    'user_based': True  # Similitud basada en usuarios\n",
        "}\n",
        "algo = KNNBasic(sim_options=sim_options)"
      ],
      "metadata": {
        "id": "iMrCvocfwrr5"
      },
      "execution_count": 9,
      "outputs": []
    },
    {
      "cell_type": "code",
      "source": [
        "\n",
        "# Entrenar el algoritmo\n",
        "algo.fit(trainset)\n"
      ],
      "metadata": {
        "colab": {
          "base_uri": "https://localhost:8080/"
        },
        "id": "C4cSa2NowxAO",
        "outputId": "13fdb254-8708-441d-84fe-d0f34a2564d8"
      },
      "execution_count": 10,
      "outputs": [
        {
          "output_type": "stream",
          "name": "stdout",
          "text": [
            "Computing the pearson similarity matrix...\n",
            "Done computing similarity matrix.\n"
          ]
        },
        {
          "output_type": "execute_result",
          "data": {
            "text/plain": [
              "<surprise.prediction_algorithms.knns.KNNBasic at 0x7ec1b0500af0>"
            ]
          },
          "metadata": {},
          "execution_count": 10
        }
      ]
    },
    {
      "cell_type": "code",
      "source": [
        "# Seleccionamos dos usuarios al azar que hayan valorado al menos 5 películas en común\n",
        "user_ids = ratings['userId'].value_counts()\n",
        "eligible_users = user_ids[user_ids >= 5].index.tolist()"
      ],
      "metadata": {
        "id": "D_03IA_7w1u3"
      },
      "execution_count": 11,
      "outputs": []
    },
    {
      "cell_type": "code",
      "source": [
        "# Seleccionar dos usuarios al azar\n",
        "user1, user2 = random.sample(eligible_users, 2)\n",
        "\n",
        "# Obtener la similitud entre los dos usuarios\n",
        "sim_matrix = algo.sim\n",
        "\n",
        "# Convertir los IDs de usuarios a los índices de scikit-surprise\n",
        "user1_inner_id = algo.trainset.to_inner_uid(user1)\n",
        "user2_inner_id = algo.trainset.to_inner_uid(user2)\n",
        "\n",
        "# Extraer la similitud entre los usuarios\n",
        "similarity_score = sim_matrix[user1_inner_id][user2_inner_id]\n",
        "\n",
        "# Imprimir los resultados\n",
        "print(f\"Los usuarios seleccionados son: {user1} y {user2}\")\n",
        "print(f\"La similitud (correlación de Pearson) entre los usuarios es: {similarity_score}\")"
      ],
      "metadata": {
        "colab": {
          "base_uri": "https://localhost:8080/"
        },
        "id": "0baOXmQtxKuF",
        "outputId": "73c61901-ee4b-4eee-cb42-01518bb0adbb"
      },
      "execution_count": 16,
      "outputs": [
        {
          "output_type": "stream",
          "name": "stdout",
          "text": [
            "Los usuarios seleccionados son: 2219 y 4500\n",
            "La similitud (correlación de Pearson) entre los usuarios es: 0.9847319278346618\n"
          ]
        }
      ]
    },
    {
      "cell_type": "markdown",
      "source": [
        "Conclusion:\n",
        "\n",
        "La correlación de Pearson entre los usuarios seleccionados (2219 y 4500) es 0.98, lo que indica una muy alta similitud entre las calificaciones que estos usuarios han dado a las películas que han visto en común. Este valor está muy cerca de 1, lo que sugiere que estos usuarios tienen gustos extremadamente similares.\n",
        "\n",
        "Interpretación del resultado:\n",
        "\n",
        "Alta correlación (0.98): Esto significa que los usuarios 2219 y 4500 tienden a calificar las películas de manera muy similar. Si a uno de estos usuarios le gusta o no una película, es muy probable que el otro usuario también tenga una opinión similar sobre esa misma película.\n",
        "\n",
        "Implicaciones para el sistema de recomendación:\n",
        "\n",
        "Recomendación entre usuarios: En un sistema de recomendación colaborativa basado en usuarios, esto indica que las películas que ha visto uno de estos usuarios pueden ser altamente recomendables para el otro. El sistema puede confiar en que las preferencias de uno reflejan bastante bien las del otro.\n",
        "Eficiencia del modelo: Este tipo de correlación alta sugiere que estos usuarios podrían formar parte de un mismo grupo de \"usuarios similares\", y las recomendaciones de películas para ellos serían bastante precisas."
      ],
      "metadata": {
        "id": "wZEgp27byWVN"
      }
    },
    {
      "cell_type": "markdown",
      "source": [
        "## Pregunta 3\n",
        "\n",
        "Escoge una pelicula que tenga al menos 50 valoraciones y calcula con otras dos peliculas del dataset usando similitud de coseno. Explica como podrías usar estos resultados para sugerir recomendaciones basadas en items"
      ],
      "metadata": {
        "id": "joZ1fpuqy_Tt"
      }
    },
    {
      "cell_type": "code",
      "source": [
        "\n",
        "\n",
        "# Usar el algoritmo KNN con la similitud de coseno para calcular similitudes entre ítems (películas)\n",
        "sim_options = {\n",
        "    'name': 'cosine',  # Usamos similitud de coseno\n",
        "    'user_based': False  # Similitud basada en ítems (películas)\n",
        "}\n",
        "algo = KNNBasic(sim_options=sim_options)\n",
        "\n",
        "# Entrenar el algoritmo\n",
        "algo.fit(trainset)\n"
      ],
      "metadata": {
        "colab": {
          "base_uri": "https://localhost:8080/"
        },
        "id": "knoTp4a6zk8U",
        "outputId": "2affa987-8aab-4983-f228-13c84bd8e6c7"
      },
      "execution_count": 17,
      "outputs": [
        {
          "output_type": "stream",
          "name": "stdout",
          "text": [
            "Computing the cosine similarity matrix...\n",
            "Done computing similarity matrix.\n"
          ]
        },
        {
          "output_type": "execute_result",
          "data": {
            "text/plain": [
              "<surprise.prediction_algorithms.knns.KNNBasic at 0x7ec1842c42b0>"
            ]
          },
          "metadata": {},
          "execution_count": 17
        }
      ]
    },
    {
      "cell_type": "code",
      "source": [
        "\n",
        "# Seleccionar una película con al menos 50 valoraciones\n",
        "movie_counts = ratings['movieId'].value_counts()\n",
        "selected_movie_id = movie_counts[movie_counts >= 50].index[0]\n",
        "\n",
        "# Elegir otras dos películas para comparar (diferentes a la primera)\n",
        "other_movie_ids = movie_counts[movie_counts >= 50].index[1:3]\n",
        "\n",
        "# Convertir los IDs de películas a los índices de scikit-surprise\n",
        "selected_movie_inner_id = algo.trainset.to_inner_iid(selected_movie_id)\n",
        "other_movie_inner_ids = [algo.trainset.to_inner_iid(mid) for mid in other_movie_ids]\n",
        "\n",
        "# Obtener la similitud de coseno entre la película seleccionada y las otras dos\n",
        "similarity_with_first_movie = algo.sim[selected_movie_inner_id][other_movie_inner_ids[0]]\n",
        "similarity_with_second_movie = algo.sim[selected_movie_inner_id][other_movie_inner_ids[1]]\n",
        "\n",
        "# Obtener los títulos de las películas seleccionadas para mostrar los resultados\n",
        "selected_movie_title = movies[movies['movieId'] == selected_movie_id]['title'].values[0]\n",
        "other_movie_titles = movies[movies['movieId'].isin(other_movie_ids)]['title'].values\n",
        "\n",
        "# Mostrar los resultados\n",
        "print(f\"Similitud de coseno entre '{selected_movie_title}' y '{other_movie_titles[0]}': {similarity_with_first_movie}\")\n",
        "print(f\"Similitud de coseno entre '{selected_movie_title}' y '{other_movie_titles[1]}': {similarity_with_second_movie}\")\n"
      ],
      "metadata": {
        "colab": {
          "base_uri": "https://localhost:8080/"
        },
        "id": "Lo6eiiylzxCh",
        "outputId": "2b92a8e6-0796-4c37-dd20-5bd7838b26b8"
      },
      "execution_count": 18,
      "outputs": [
        {
          "output_type": "stream",
          "name": "stdout",
          "text": [
            "Similitud de coseno entre 'American Beauty (1999)' y 'Star Wars: Episode IV - A New Hope (1977)': 0.9631651181371084\n",
            "Similitud de coseno entre 'American Beauty (1999)' y 'Star Wars: Episode V - The Empire Strikes Back (1980)': 0.9621719818046678\n"
          ]
        }
      ]
    },
    {
      "cell_type": "markdown",
      "source": [
        "\n",
        "Interpretación de los resultados:\n",
        "Similitud de coseno entre 'American Beauty (1999)' y 'Star Wars: Episode IV - A New Hope (1977)': 0.96\n",
        "Similitud de coseno entre 'American Beauty (1999)' y 'Star Wars: Episode V - The Empire Strikes Back (1980)': 0.96\n",
        "Ambos valores de similitud de coseno son muy altos (0.96), lo que indica que las calificaciones que los usuarios han dado a estas películas son muy similares, aunque los géneros de las películas son claramente diferentes (drama vs. ciencia ficción).\n",
        "\n",
        "¿Cómo podemos usar estos resultados para hacer recomendaciones basadas en ítems?\n",
        "En un sistema de recomendaciones basado en ítems (películas), los resultados de similitud de coseno se pueden utilizar de varias formas:\n",
        "\n",
        "1. Recomendaciones basadas en películas que el usuario ha disfrutado:\n",
        "Si un usuario ha calificado positivamente una de estas películas, como 'American Beauty', el sistema puede recomendarle películas con alta similitud de coseno, como 'Star Wars: Episode IV' o 'Star Wars: Episode V', basándose en las preferencias de otros usuarios.\n",
        "A pesar de que los géneros sean diferentes, la similitud en la forma en que los usuarios han calificado las películas indica que hay una fuerte correlación en las preferencias.\n",
        "2. Filtrado por similitud de coseno:\n",
        "El sistema puede priorizar recomendar películas con un valor de similitud de coseno alto (por ejemplo, por encima de 0.8 o 0.9), ya que las probabilidades de que el usuario disfrute de una película similar a una que ya le ha gustado son mayores.\n",
        "En este caso, las películas de 'Star Wars' podrían ser buenas candidatas a ser recomendadas a alguien que disfrutó de 'American Beauty', debido a la fuerte similitud en las calificaciones de otros usuarios.\n",
        "3. Mejorar la diversidad de recomendaciones:\n",
        "Aunque las películas recomendadas sean de géneros distintos, como en este caso, la similitud de coseno sugiere que los usuarios que disfrutan de 'American Beauty' también podrían disfrutar de 'Star Wars', aportando diversidad a las recomendaciones.\n",
        "Esto puede ser útil para descubrir nuevos géneros o estilos que un usuario podría no haber considerado previamente.\n",
        "4. Sistema híbrido:\n",
        "Un sistema que combine la similitud de ítems (películas) con información de géneros o contenido podría afinar mejor las recomendaciones. Por ejemplo, aunque la similitud de calificaciones entre 'American Beauty' y 'Star Wars' es alta, un filtro adicional podría limitar las recomendaciones a un conjunto de géneros que el usuario prefiera.\n",
        "\n",
        "\n"
      ],
      "metadata": {
        "id": "5JvTUp8N0RQw"
      }
    },
    {
      "cell_type": "markdown",
      "source": [
        "## Pregunta 4\n",
        "\n",
        "Implementa un sistema de recomendacion basado en KNN utilizando la distancia euclidiana como metrica de similtud. Divide el dataset en conjunto de entrenamiento y prueba. Luego calcula el hit rate del modelo en el conjunto de prueba, explicando como el hit rate refleja la efectividad del recomendador en este caso"
      ],
      "metadata": {
        "id": "iHhcA1i60reU"
      }
    },
    {
      "cell_type": "code",
      "source": [
        "\n",
        "\n",
        "# Usar el algoritmo KNN con la métrica de distancia euclidiana para calcular similitudes entre ítems\n",
        "sim_options = {\n",
        "    'name': 'msd',  # Mean Squared Difference, equivalente a la distancia euclidiana\n",
        "    'user_based': True  # Similitud basada en usuarios\n",
        "}\n",
        "algo4 = KNNBasic(sim_options=sim_options)\n",
        "\n",
        "# Entrenar el modelo en el conjunto de entrenamiento\n",
        "algo4.fit(trainset)\n",
        "\n"
      ],
      "metadata": {
        "colab": {
          "base_uri": "https://localhost:8080/"
        },
        "id": "EhVnMg_K1JL0",
        "outputId": "cc3aafbd-3e72-4625-d967-ac63350119c4"
      },
      "execution_count": 19,
      "outputs": [
        {
          "output_type": "stream",
          "name": "stdout",
          "text": [
            "Computing the msd similarity matrix...\n",
            "Done computing similarity matrix.\n"
          ]
        },
        {
          "output_type": "execute_result",
          "data": {
            "text/plain": [
              "<surprise.prediction_algorithms.knns.KNNBasic at 0x7ec1842c6b00>"
            ]
          },
          "metadata": {},
          "execution_count": 19
        }
      ]
    },
    {
      "cell_type": "code",
      "source": [
        "# Predecir las calificaciones en el conjunto de prueba\n",
        "predictions = algo4.test(testset)\n",
        "\n"
      ],
      "metadata": {
        "id": "eA2u8juC1RMD"
      },
      "execution_count": 20,
      "outputs": []
    },
    {
      "cell_type": "code",
      "source": [
        "# Convertir predicciones a DataFrame\n",
        "predictions_df = pd.DataFrame(predictions, columns=['userId', 'movieId', 'real_rating', 'predicted_rating', 'details'])\n"
      ],
      "metadata": {
        "id": "PhVcWVKc2eym"
      },
      "execution_count": 21,
      "outputs": []
    },
    {
      "cell_type": "code",
      "source": [
        "# Definir umbral de relevancia\n",
        "relevant_threshold = 4.0\n",
        "\n",
        "# Inicializar contadores\n",
        "hits = 0\n",
        "total_relevant = 0\n",
        "\n",
        "# Iterar sobre todas las predicciones\n",
        "for _, row in predictions_df.iterrows():\n",
        "    real_rating = row['real_rating']\n",
        "    predicted_rating = row['predicted_rating']\n",
        "\n",
        "    # Considerar películas con calificación real ≥ umbral como relevantes\n",
        "    if real_rating >= relevant_threshold:\n",
        "        total_relevant += 1\n",
        "        # Si la predicción también es ≥ umbral, es un acierto\n",
        "        if predicted_rating >= relevant_threshold:\n",
        "            hits += 1\n",
        "\n",
        "# Calcular el Hit Rate Global\n",
        "hit_rate_global = hits / total_relevant if total_relevant > 0 else 0\n",
        "print(f\"Hit Rate Global: {hit_rate_global:.2f}\")"
      ],
      "metadata": {
        "colab": {
          "base_uri": "https://localhost:8080/"
        },
        "id": "xFBrCq5y2jfj",
        "outputId": "2f693279-b6e4-4532-c36b-be33615673a8"
      },
      "execution_count": 22,
      "outputs": [
        {
          "output_type": "stream",
          "name": "stdout",
          "text": [
            "Hit Rate Global: 0.47\n"
          ]
        }
      ]
    },
    {
      "cell_type": "markdown",
      "source": [
        "Conclusiones:\n",
        "\n",
        "Un hit rate global de 0.47 significa que, en aproximadamente el 47% de las recomendaciones que el sistema hizo, la predicción fue exitosa: es decir, cuando el sistema predijo que una película sería apreciada por el usuario (con una calificación predicha de al menos 4.0), el usuario efectivamente le dio una calificación de 4.0 o superior.\n",
        "\n",
        "Es un buen punto de partida, sin embargo para mejorarlo se tendría que hacer:\n",
        "- Optimizar el modelo, con otras metricas de similitud, realizar ajuste de hiperparametros\n",
        "- Optimizacion de la metrica, ajustando threshold = 4.0.\n",
        "- Evaluación con más métricas: Incluir otras métricas, como el RMSE o el MAE"
      ],
      "metadata": {
        "id": "4bhrdScg27i4"
      }
    }
  ]
}